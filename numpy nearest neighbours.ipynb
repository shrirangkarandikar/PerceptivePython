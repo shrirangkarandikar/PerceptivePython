{
 "cells": [
  {
   "cell_type": "markdown",
   "metadata": {},
   "source": [
    "Given a set of points in a $k$ dimensional space, calculate the nearest neighbour of each point\n",
    "\n",
    "I found this in a video on YouTube (https://youtu.be/EEUXKG97YRw), and I use it to explain how broadcasting works. Be sure to see the notebook called broadcasting and \"nn explanations\" for more material\n",
    "\n",
    "Just as a joke, I have a separate implementation for 1D, then an implementation of the straightforward approach to calculating distances (multiple nested loops). Note the visualisation to quickly check that things look okay. This is generalized to $k$ dimensions and any number of points, and if you want to calculate distances using (say) manhanttan instead of cartesian metrics, just change the formula.\n",
    "\n",
    "Note that for larger dimensions I'm still plotting points using two co-ordinates, so they may not seem to be the nearest neighbours\n",
    "\n",
    "\n",
    "Fair warning: there's still a lot of cleanup that needs to be done in the code below, and its not well documented (er, at all!)"
   ]
  },
  {
   "cell_type": "markdown",
   "metadata": {},
   "source": [
    "___"
   ]
  },
  {
   "cell_type": "markdown",
   "metadata": {},
   "source": [
    "Generate a list of points on 1 dimension and calculate the nearest neighbour pair\n",
    "Note that since this is in 1d, sorting and taking the difference between adjacent points is sufficient!"
   ]
  },
  {
   "cell_type": "code",
   "execution_count": 42,
   "metadata": {},
   "outputs": [
    {
     "name": "stdout",
     "output_type": "stream",
     "text": [
      "max_dist = 0.1195\n",
      "(50,) <class 'numpy.ndarray'>\n"
     ]
    }
   ],
   "source": [
    "import numpy as np\n",
    "import random\n",
    "\n",
    "num_pts = 50\n",
    "# first as a list\n",
    "pts = [random.random() for i in range(num_pts)]\n",
    "#print(pts[:4])\n",
    "## note that sorting only works for 1-dimension!!\n",
    "pts.sort()\n",
    "#print(pts[:4])\n",
    "#print(pts[-4:])\n",
    "\n",
    "max_dist = -1\n",
    "\n",
    "\n",
    "\n",
    "for index in range(num_pts):\n",
    "    #print(index, len(pts))\n",
    "    if index+1 < len(pts):\n",
    "        dist = pts[index+1] - pts[index]\n",
    "        if max_dist < dist:\n",
    "            #print(\"indices: {}:{:.2f} and {}:{:.2f}, updating max_d {:.4f} to d {:.4f}\".\n",
    "            #      format(index, pts[index], index+1, pts[index+1], max_dist, dist))\n",
    "            max_dist = dist\n",
    "            \n",
    "##much more elegant:\n",
    "p1, p2 = itertools.tee(pts)\n",
    "next(p2, None)\n",
    "for p_1, p_2 in zip(p1, p2):\n",
    "    print(p_1)\n",
    "    print(p_2)\n",
    "    print()\n",
    "    \n",
    "    \n",
    "print(\"max_dist = {:.4f}\".format(max_dist))\n",
    "\n",
    "np_pts = np.array(pts)\n",
    "print(np_pts.shape, type(np_pts))"
   ]
  },
  {
   "cell_type": "markdown",
   "metadata": {},
   "source": [
    "___\n",
    "Now for points in a 2D space. \n",
    "For each point, what is its closest neighbour?"
   ]
  },
  {
   "cell_type": "code",
   "execution_count": 167,
   "metadata": {},
   "outputs": [
    {
     "name": "stdout",
     "output_type": "stream",
     "text": [
      "[(0.6193976328529575, 0.7992972671726107), (0.28163920866683256, 0.6785208805758907)]\n",
      "[6, 12, 13, 14, 14, 4, 15, 16, 17, 10, 0, 13, 1, 2, 3, 6, 7, 8, 8, 3]\n"
     ]
    }
   ],
   "source": [
    "import numpy as np\n",
    "import random\n",
    "import itertools\n",
    "\n",
    "num_pts = 20\n",
    "# points are a list of 2 tuples\n",
    "pts = [(random.random(), random.random()) for i in range(num_pts)]\n",
    "#pts = [(2.*i, random.random()) for i in range(num_pts)]\n",
    "#print(pts[:2])\n",
    "\n",
    "nearest_neighbours = []\n",
    "for index, (x1, y1) in enumerate(pts):\n",
    "    #print(\"{}: {:.2f},{:.2f}\".format(index, x1, y1))\n",
    "    nearest_neighbour_dist = np.inf\n",
    "    nearest_neighbour_index = -1\n",
    "    for index2, (x2, y2) in enumerate(pts):\n",
    "        if index != index2:            \n",
    "            dist = (x1 - x2) * (x1 - x2) + (y1 - y2) * (y1 - y2)\n",
    "            if nearest_neighbour_dist > dist:\n",
    "                nearest_neighbour_dist = dist\n",
    "                nearest_neighbour_index = index2        \n",
    "    #print(\"{}: {:.2f}, {:.2f} -> {}: {:.2f}, {:.2f} dist = {:.4f}\"\n",
    "    #     .format(index, x1, y1, nearest_neighbour_index, pts[nearest_neighbour_index][0],\n",
    "    #            pts[nearest_neighbour_index][1], nearest_neighbour_dist))\n",
    "    nearest_neighbours.append(nearest_neighbour_index)\n",
    "print(nearest_neighbours)"
   ]
  },
  {
   "cell_type": "markdown",
   "metadata": {},
   "source": [
    "Now let's try do do this using numpy!\n",
    "I'll use the same pts as before, but convert it to an numpy array"
   ]
  },
  {
   "cell_type": "code",
   "execution_count": 166,
   "metadata": {},
   "outputs": [
    {
     "name": "stdout",
     "output_type": "stream",
     "text": [
      "\n",
      "nearest neighbours:\n",
      "===================\n",
      "[ 6  5 14 19 16  1 13 17 15  5 18  9 11  6 17  8  1 14 10 14]\n"
     ]
    }
   ],
   "source": [
    "#pts = [(random.random(), random.random()) for i in range(num_pts)]\n",
    "pts = np.array(pts)\n",
    "#pts = np.arange(num_pts * 2.).reshape(20,2)\n",
    "#print(type(pts))\n",
    "#print(pts.shape)\n",
    "#print(pts)\n",
    "\n",
    "pts_r = pts.reshape(num_pts, 1, 2)\n",
    "#print(\"pts reshaped\")\n",
    "#print(\"============\")\n",
    "#print(pts_r.shape)\n",
    "#print(pts_r)\n",
    "#print()\n",
    "\n",
    "#print(\"diff\")\n",
    "diff = pts_r - pts\n",
    "#print(diff.shape)\n",
    "#print(diff)\n",
    "#print()\n",
    "\n",
    "#print(\"diff squared:\")\n",
    "#print(\"=============\")\n",
    "D = (diff ** 2)\n",
    "#print(D.shape)\n",
    "#print(D)\n",
    "#print()\n",
    "\n",
    "#print(\"diff squared summed:\")\n",
    "#print(\"====================\")\n",
    "D = D.sum(2)\n",
    "#print(D.shape)\n",
    "#print(D)\n",
    "\n",
    "i = np.arange(num_pts)\n",
    "#print(size)\n",
    "#print(i)\n",
    "D[i,i] = np.inf\n",
    "\n",
    "print()\n",
    "print(\"nearest neighbours:\")\n",
    "print(\"===================\")\n",
    "i = np.argmin(D, 1)\n",
    "print(i)\n",
    "#print(D[:,i])"
   ]
  },
  {
   "cell_type": "markdown",
   "metadata": {},
   "source": [
    "This is just plotting the points (and their nearest neighbours)"
   ]
  },
  {
   "cell_type": "code",
   "execution_count": 171,
   "metadata": {},
   "outputs": [],
   "source": [
    "def nn_trad(pts):\n",
    "    nearest_neighbours = []\n",
    "    for index, (x1, y1) in enumerate(pts):\n",
    "        nearest_neighbour_dist = np.inf\n",
    "        nearest_neighbour_index = -1\n",
    "        for index2, (x2, y2) in enumerate(pts):\n",
    "            if index != index2:            \n",
    "                dist = (x1 - x2) * (x1 - x2) + (y1 - y2) * (y1 - y2)\n",
    "                if nearest_neighbour_dist > dist:\n",
    "                    nearest_neighbour_dist = dist\n",
    "                    nearest_neighbour_index = index2        \n",
    "        nearest_neighbours.append(nearest_neighbour_index)\n",
    "    return nearest_neighbours\n",
    "\n",
    "def nn_numpy(pts):\n",
    "    pts = np.array(pts)\n",
    "    pts_r = pts.reshape(num_pts, 1, 2)\n",
    "    diff = pts_r - pts\n",
    "    D = (diff ** 2)\n",
    "    D = D.sum(2)\n",
    "    i = np.arange(num_pts)\n",
    "    D[i,i] = np.inf\n",
    "    nearest_neighbours = np.argmin(D, 1)\n",
    "    return nearest_neighbours"
   ]
  },
  {
   "cell_type": "code",
   "execution_count": 237,
   "metadata": {},
   "outputs": [],
   "source": [
    "def nn_trad_ndim(pts):\n",
    "    nearest_neighbours = []\n",
    "    nn_dist = []\n",
    "    #pt_1 = ()\n",
    "    for index, pt1 in enumerate(pts):\n",
    "        nearest_neighbour_dist = np.inf\n",
    "        nearest_neighbour_index = -1\n",
    "        for index2, pt2 in enumerate(pts):\n",
    "            if index != index2:\n",
    "                dist = 0\n",
    "                for i1, i2 in zip(pt1, pt2):\n",
    "                    dist += (i1 - i2) * (i1 - i2)\n",
    "                if nearest_neighbour_dist > dist:\n",
    "                    nearest_neighbour_dist = dist\n",
    "                    nearest_neighbour_index = index2        \n",
    "        nearest_neighbours.append(nearest_neighbour_index)\n",
    "        nn_dist.append(nearest_neighbour_dist)\n",
    "    return nearest_neighbours, nn_dist\n",
    "\n",
    "def nn_numpy_ndim(pts):\n",
    "    pts = np.array(pts)\n",
    "    dim = pts.shape[-1]\n",
    "    pts_r = pts.reshape(num_pts, 1, dim)\n",
    "    diff = pts_r - pts\n",
    "    D = (diff ** 2)\n",
    "    D = D.sum(2)\n",
    "    i = np.arange(num_pts)\n",
    "    D[i,i] = np.inf\n",
    "    nearest_neighbours = np.argmin(D, 1)\n",
    "    nn_dist = np.min(D, 1)\n",
    "    return nearest_neighbours, nn_dist"
   ]
  },
  {
   "cell_type": "code",
   "execution_count": 245,
   "metadata": {},
   "outputs": [
    {
     "name": "stdout",
     "output_type": "stream",
     "text": [
      "7.82 ms ± 359 µs per loop (mean ± std. dev. of 7 runs, 100 loops each)\n",
      "387 µs ± 12.7 µs per loop (mean ± std. dev. of 7 runs, 1000 loops each)\n",
      "\n",
      "[0. 0. 0. 0. 0. 0. 0. 0. 0. 0.]\n"
     ]
    }
   ],
   "source": [
    "import numpy as np\n",
    "import random\n",
    "import itertools\n",
    "\n",
    "num_pts = 100\n",
    "# points are a list of k tuples\n",
    "pts = [(random.random(),random.random(), random.random(), random.random())\n",
    "       for i in range(num_pts)]\n",
    "#pts = [(i, i+1., i+2) for i in range(num_pts)]\n",
    "#print(pts)\n",
    "#%timeit nbrs_trad = nn_trad(pts)\n",
    "#%timeit nbrs_np = nn_numpy(pts)\n",
    "\n",
    "%timeit nbrs_trad, ndist_trad = nn_trad_ndim(pts)\n",
    "\n",
    "#print(nbrs_trad)\n",
    "#print(ndist_trad)\n",
    "\n",
    "%timeit nbrs_np, ndist_np = nn_numpy_ndim(pts)\n",
    "#print(nbrs_np)\n",
    "#print(ndist_np)\n",
    "\n",
    "print()\n",
    "print(ndist_np - np.array(ndist_trad))"
   ]
  },
  {
   "cell_type": "code",
   "execution_count": 244,
   "metadata": {},
   "outputs": [
    {
     "data": {
      "image/png": "[encoded data removed]",
      "text/plain": [
       "<matplotlib.figure.Figure at 0x23f9cc86b38>"
      ]
     },
     "metadata": {},
     "output_type": "display_data"
    }
   ],
   "source": [
    "import matplotlib.pyplot as plt\n",
    "from matplotlib import collections as mc\n",
    "# same as (?):\n",
    "#import matplotlib.collections as mc\n",
    "\n",
    "pts2d = np.array(pts)\n",
    "#print(pts2d)\n",
    "pts2d = np.delete(pts2d, np.s_[2:], axis=1)\n",
    "#print(pts2d)\n",
    "x = [x1 for x1, y1 in pts2d]\n",
    "y = [y1 for x1, y1 in pts2d]\n",
    "\n",
    "fig, ax = plt.subplots(1, 3, figsize = (16, 5))\n",
    "\n",
    "ax[0].scatter(x, y)\n",
    "for index, pt in enumerate(pts2d):\n",
    "    s = str(index)\n",
    "    s = s.rjust(5)\n",
    "    ax[0].text(pt[0], pt[1], s)\n",
    "\n",
    "ax[1].scatter(x, y)\n",
    "\n",
    "neighbours = []\n",
    "\n",
    "for index, p1 in enumerate(pts2d):\n",
    "    neighbours.append([p1, pts2d[nbrs_trad[index]]])\n",
    "    \n",
    "#print(neighbours[:2])\n",
    "\n",
    "line_segments = mc.LineCollection(neighbours)\n",
    "ax[1].add_collection(line_segments)\n",
    "\n",
    "ax[2].scatter(x, y)\n",
    "neighbours = []\n",
    "for index, p1 in enumerate(pts2d):\n",
    "    neighbours.append([p1, pts2d[nbrs_np[index]]])\n",
    "line_segments = mc.LineCollection(neighbours)\n",
    "ax[2].add_collection(line_segments)\n",
    "plt.show()"
   ]
  },
  {
   "cell_type": "code",
   "execution_count": 133,
   "metadata": {},
   "outputs": [
    {
     "name": "stdout",
     "output_type": "stream",
     "text": [
      "18: min dist 0.011120067087233634 at index 12 v 0.5\n",
      "18: min dist 0.025063039723930963 at index 11 v 0.5\n"
     ]
    },
    {
     "data": {
      "image/png": "[encoded data removed]",
      "text/plain": [
       "<matplotlib.figure.Figure at 0x23f9d1b0470>"
      ]
     },
     "metadata": {},
     "output_type": "display_data"
    }
   ],
   "source": [
    "## just trying to see where the bug was in a previous cell, printing \n",
    "## values in a row and checking if argmin gives the correct value\n",
    "\n",
    "fig, ax = plt.subplots(1, 2, figsize=(16, 8))\n",
    "tmp = D[18].copy()\n",
    "tmp[18] = 0.5\n",
    "ax[0].stem(tmp)\n",
    "i = np.argmin(tmp)\n",
    "print(\"18: min dist {} at index {} v {}\".format(min(tmp), i, tmp[18]))\n",
    "\n",
    "tmp = D[19].copy()\n",
    "tmp[19] = 0.5\n",
    "i = np.argmin(tmp)\n",
    "print(\"18: min dist {} at index {} v {}\".format(min(tmp), i, tmp[19]))\n",
    "ax[1].stem(tmp)\n",
    "\n",
    "plt.show()"
   ]
  },
  {
   "cell_type": "code",
   "execution_count": 61,
   "metadata": {},
   "outputs": [
    {
     "name": "stdout",
     "output_type": "stream",
     "text": [
      "(2, 3)\n",
      "[[1. 2. 3.]\n",
      " [4. 5. 6.]]\n",
      "\n",
      "(2, 1, 3)\n",
      "[[[1. 2. 3.]]\n",
      "\n",
      " [[4. 5. 6.]]]\n",
      "\n",
      "(2, 2, 3)\n",
      "[[[ 0.  0.  0.]\n",
      "  [-3. -3. -3.]]\n",
      "\n",
      " [[ 3.  3.  3.]\n",
      "  [ 0.  0.  0.]]]\n",
      "\n",
      "(2, 2, 3)\n",
      "[[[0. 0. 0.]\n",
      "  [9. 9. 9.]]\n",
      "\n",
      " [[9. 9. 9.]\n",
      "  [0. 0. 0.]]]\n",
      "\n",
      "(2, 2)\n",
      "[[ 0. 27.]\n",
      " [27.  0.]]\n",
      "[1 0]\n"
     ]
    }
   ],
   "source": [
    "pts = np.array([[1., 2, 3],[4, 5, 6]])\n",
    "size = 2\n",
    "\n",
    "#pts = np.array([[1, 2, 3],[4, 5, 6],[7, 8, 9], [10, 11, 12]])\n",
    "#size = 4\n",
    "\n",
    "print(pts.shape)\n",
    "print(pts)\n",
    "print()\n",
    "\n",
    "pts_r = pts.reshape(size, 1, 3)\n",
    "print(pts_r.shape)\n",
    "print(pts_r)\n",
    "print()\n",
    "\n",
    "diff = pts_r - pts\n",
    "print(diff.shape)\n",
    "print(diff)\n",
    "print()\n",
    "\n",
    "D = (diff ** 2)\n",
    "print(D.shape)\n",
    "print(D)\n",
    "print()\n",
    "\n",
    "D = D.sum(2)\n",
    "print(D.shape)\n",
    "print(D)\n",
    "\n",
    "i = np.arange(size)\n",
    "D[i,i] = np.inf\n",
    "\n",
    "i = np.argmin(D, 1)\n",
    "print(i)"
   ]
  },
  {
   "cell_type": "code",
   "execution_count": 116,
   "metadata": {},
   "outputs": [],
   "source": [
    "np.sum?\n"
   ]
  },
  {
   "cell_type": "code",
   "execution_count": 247,
   "metadata": {},
   "outputs": [
    {
     "data": {
      "text/plain": [
       "array([[1., 1., 1., 1., 1., 1., 1., 1., 1., 1.],\n",
       "       [1., 0., 0., 0., 0., 0., 0., 0., 0., 1.],\n",
       "       [1., 0., 0., 0., 0., 0., 0., 0., 0., 1.],\n",
       "       [1., 0., 0., 0., 0., 0., 0., 0., 0., 1.],\n",
       "       [1., 0., 0., 0., 0., 0., 0., 0., 0., 1.],\n",
       "       [1., 0., 0., 0., 0., 0., 0., 0., 0., 1.],\n",
       "       [1., 0., 0., 0., 0., 0., 0., 0., 0., 1.],\n",
       "       [1., 0., 0., 0., 0., 0., 0., 0., 0., 1.],\n",
       "       [1., 0., 0., 0., 0., 0., 0., 0., 0., 1.],\n",
       "       [1., 1., 1., 1., 1., 1., 1., 1., 1., 1.]])"
      ]
     },
     "execution_count": 247,
     "metadata": {},
     "output_type": "execute_result"
    }
   ],
   "source": [
    "Z = np.ones((10,10))\n",
    "Z[1:-1,1:-1] = 0\n",
    "Z"
   ]
  },
  {
   "cell_type": "code",
   "execution_count": 248,
   "metadata": {},
   "outputs": [
    {
     "name": "stdout",
     "output_type": "stream",
     "text": [
      "nan\n",
      "False\n",
      "False\n",
      "nan\n",
      "False\n"
     ]
    }
   ],
   "source": [
    "print(0 * np.nan)\n",
    "print(np.nan == np.nan)\n",
    "print(np.inf > np.nan)\n",
    "print(np.nan - np.nan)\n",
    "print(0.3 == 3 * 0.1)"
   ]
  },
  {
   "cell_type": "code",
   "execution_count": 9,
   "metadata": {},
   "outputs": [
    {
     "name": "stdout",
     "output_type": "stream",
     "text": [
      "[[1 5]\n",
      " [6 2]\n",
      " [3 7]\n",
      " [8 4]]\n",
      "8 2 (4, 2)\n",
      "[[[1 5]]\n",
      "\n",
      " [[6 2]]\n",
      "\n",
      " [[3 7]]\n",
      "\n",
      " [[8 4]]]\n",
      "8 3 (4, 1, 2)\n",
      "32 3 (4, 4, 2)\n",
      "[[[ 0  0]\n",
      "  [-5  3]\n",
      "  [-2 -2]\n",
      "  [-7  1]]\n",
      "\n",
      " [[ 5 -3]\n",
      "  [ 0  0]\n",
      "  [ 3 -5]\n",
      "  [-2 -2]]\n",
      "\n",
      " [[ 2  2]\n",
      "  [-3  5]\n",
      "  [ 0  0]\n",
      "  [-5  3]]\n",
      "\n",
      " [[ 7 -1]\n",
      "  [ 2  2]\n",
      "  [ 5 -3]\n",
      "  [ 0  0]]]\n",
      "32 3 (4, 4, 2)\n",
      "[[[ 0  0]\n",
      "  [25  9]\n",
      "  [ 4  4]\n",
      "  [49  1]]\n",
      "\n",
      " [[25  9]\n",
      "  [ 0  0]\n",
      "  [ 9 25]\n",
      "  [ 4  4]]\n",
      "\n",
      " [[ 4  4]\n",
      "  [ 9 25]\n",
      "  [ 0  0]\n",
      "  [25  9]]\n",
      "\n",
      " [[49  1]\n",
      "  [ 4  4]\n",
      "  [25  9]\n",
      "  [ 0  0]]]\n",
      "16 2 (4, 4)\n",
      "[[ 0 34  8 50]\n",
      " [34  0 34  8]\n",
      " [ 8 34  0 34]\n",
      " [50  8 34  0]]\n"
     ]
    },
    {
     "ename": "OverflowError",
     "evalue": "cannot convert float infinity to integer",
     "output_type": "error",
     "traceback": [
      "\u001b[1;31m---------------------------------------------------------------------------\u001b[0m",
      "\u001b[1;31mOverflowError\u001b[0m                             Traceback (most recent call last)",
      "\u001b[1;32m<ipython-input-9-fac3483f4755>\u001b[0m in \u001b[0;36m<module>\u001b[1;34m()\u001b[0m\n\u001b[0;32m     46\u001b[0m \u001b[0mprint\u001b[0m\u001b[1;33m(\u001b[0m\u001b[0mpts\u001b[0m\u001b[1;33m.\u001b[0m\u001b[0msize\u001b[0m\u001b[1;33m,\u001b[0m \u001b[0mpts\u001b[0m\u001b[1;33m.\u001b[0m\u001b[0mndim\u001b[0m\u001b[1;33m,\u001b[0m \u001b[0mpts\u001b[0m\u001b[1;33m.\u001b[0m\u001b[0mshape\u001b[0m\u001b[1;33m)\u001b[0m\u001b[1;33m\u001b[0m\u001b[0m\n\u001b[0;32m     47\u001b[0m \u001b[1;31m#print(nn_trad(pts))\u001b[0m\u001b[1;33m\u001b[0m\u001b[1;33m\u001b[0m\u001b[0m\n\u001b[1;32m---> 48\u001b[1;33m \u001b[0mprint\u001b[0m\u001b[1;33m(\u001b[0m\u001b[0mnn_numpy\u001b[0m\u001b[1;33m(\u001b[0m\u001b[0mpts\u001b[0m\u001b[1;33m)\u001b[0m\u001b[1;33m)\u001b[0m\u001b[1;33m\u001b[0m\u001b[0m\n\u001b[0m",
      "\u001b[1;32m<ipython-input-9-fac3483f4755>\u001b[0m in \u001b[0;36mnn_numpy\u001b[1;34m(pts)\u001b[0m\n\u001b[0;32m     34\u001b[0m     \u001b[0mprint\u001b[0m\u001b[1;33m(\u001b[0m\u001b[0mD\u001b[0m\u001b[1;33m)\u001b[0m\u001b[1;33m\u001b[0m\u001b[0m\n\u001b[0;32m     35\u001b[0m     \u001b[0mi\u001b[0m \u001b[1;33m=\u001b[0m \u001b[0mnp\u001b[0m\u001b[1;33m.\u001b[0m\u001b[0marange\u001b[0m\u001b[1;33m(\u001b[0m\u001b[0mnum_pts\u001b[0m\u001b[1;33m)\u001b[0m\u001b[1;33m\u001b[0m\u001b[0m\n\u001b[1;32m---> 36\u001b[1;33m     \u001b[0mD\u001b[0m\u001b[1;33m[\u001b[0m\u001b[0mi\u001b[0m\u001b[1;33m,\u001b[0m\u001b[0mi\u001b[0m\u001b[1;33m]\u001b[0m \u001b[1;33m=\u001b[0m \u001b[0mnp\u001b[0m\u001b[1;33m.\u001b[0m\u001b[0minf\u001b[0m\u001b[1;33m\u001b[0m\u001b[0m\n\u001b[0m\u001b[0;32m     37\u001b[0m     \u001b[0mnearest_neighbours\u001b[0m \u001b[1;33m=\u001b[0m \u001b[0mnp\u001b[0m\u001b[1;33m.\u001b[0m\u001b[0margmin\u001b[0m\u001b[1;33m(\u001b[0m\u001b[0mD\u001b[0m\u001b[1;33m,\u001b[0m \u001b[1;36m1\u001b[0m\u001b[1;33m)\u001b[0m\u001b[1;33m\u001b[0m\u001b[0m\n\u001b[0;32m     38\u001b[0m     \u001b[1;32mreturn\u001b[0m \u001b[0mnearest_neighbours\u001b[0m\u001b[1;33m\u001b[0m\u001b[0m\n",
      "\u001b[1;31mOverflowError\u001b[0m: cannot convert float infinity to integer"
     ]
    }
   ],
   "source": [
    "## Debug\n",
    "import numpy as np\n",
    "\n",
    "def nn_trad(pts):\n",
    "    nearest_neighbours = []\n",
    "    for index, (x1, y1) in enumerate(pts):\n",
    "        nearest_neighbour_dist = np.inf\n",
    "        nearest_neighbour_index = -1\n",
    "        for index2, (x2, y2) in enumerate(pts):\n",
    "            if index != index2:            \n",
    "                dist = (x1 - x2) * (x1 - x2) + (y1 - y2) * (y1 - y2)\n",
    "                print(\"dist p{}: {}, {} --> p{}: {}, {} = {}\".\n",
    "                      format(index, x1, y1, index2, x2, y2, dist))\n",
    "                if nearest_neighbour_dist > dist:\n",
    "                    nearest_neighbour_dist = dist\n",
    "                    nearest_neighbour_index = index2\n",
    "                    print(\"\\tnn updated to {}\".format(index2))\n",
    "        nearest_neighbours.append(nearest_neighbour_index)\n",
    "    return nearest_neighbours\n",
    "\n",
    "def nn_numpy(pts):\n",
    "    pts = np.array(pts)\n",
    "    pts_r = pts.reshape(num_pts, 1, 2)\n",
    "    print(pts_r)\n",
    "    print(pts_r.size, pts_r.ndim, pts_r.shape)\n",
    "    diff = pts_r - pts\n",
    "    print(diff.size, diff.ndim, diff.shape)\n",
    "    print(diff)\n",
    "    D = (diff ** 2)\n",
    "    print(D.size, D.ndim, D.shape)\n",
    "    print(D)\n",
    "    D = D.sum(2)\n",
    "    print(D.size, D.ndim, D.shape)\n",
    "    print(D)\n",
    "    i = np.arange(num_pts)\n",
    "    D[i,i] = np.inf\n",
    "    nearest_neighbours = np.argmin(D, 1)\n",
    "    return nearest_neighbours\n",
    "\n",
    "num_pts = 4\n",
    "pts = np.array([[1, 5],\n",
    "                [6, 2],\n",
    "                [3, 7],\n",
    "                [8, 4]])\n",
    "print(pts)\n",
    "print(pts.size, pts.ndim, pts.shape)\n",
    "#print(nn_trad(pts))\n",
    "print(nn_numpy(pts))"
   ]
  }
 ],
 "metadata": {
  "kernelspec": {
   "display_name": "Python 3",
   "language": "python",
   "name": "python3"
  },
  "language_info": {
   "codemirror_mode": {
    "name": "ipython",
    "version": 3
   },
   "file_extension": ".py",
   "mimetype": "text/x-python",
   "name": "python",
   "nbconvert_exporter": "python",
   "pygments_lexer": "ipython3",
   "version": "3.6.4"
  },
  "latex_envs": {
   "LaTeX_envs_menu_present": true,
   "autoclose": false,
   "autocomplete": true,
   "bibliofile": "biblio.bib",
   "cite_by": "apalike",
   "current_citInitial": 1,
   "eqLabelWithNumbers": true,
   "eqNumInitial": 1,
   "hotkeys": {
    "equation": "Ctrl-E",
    "itemize": "Ctrl-I"
   },
   "labels_anchors": false,
   "latex_user_defs": false,
   "report_style_numbering": false,
   "user_envs_cfg": false
  }
 },
 "nbformat": 4,
 "nbformat_minor": 2
}
