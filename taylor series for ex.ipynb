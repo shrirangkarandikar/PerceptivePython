{
 "cells": [
  {
   "cell_type": "markdown",
   "metadata": {},
   "source": [
    "\\begin{equation}\\label{eq:}\n",
    "e^x = \\sum_{i=0}^\\infty \\frac{x^i}{i!}\n",
    "\\end{equation}\n"
   ]
  },
  {
   "cell_type": "code",
   "execution_count": 1,
   "metadata": {},
   "outputs": [
    {
     "name": "stdout",
     "output_type": "stream",
     "text": [
      "enter x: 17\n"
     ]
    }
   ],
   "source": [
    "# %matplotlib inline\n",
    "import numpy as np\n",
    "\n",
    "import math\n",
    "import scipy.special\n",
    "\n",
    "import matplotlib\n",
    "import matplotlib.pyplot as plt\n",
    "\n",
    "\n",
    "x = int(input(\"enter x: \"))\n",
    "num_iters = 1000"
   ]
  },
  {
   "cell_type": "code",
   "execution_count": 2,
   "metadata": {},
   "outputs": [
    {
     "name": "stdout",
     "output_type": "stream",
     "text": [
      "21.9 ms ± 487 µs per loop (mean ± std. dev. of 7 runs, 10 loops each)\n"
     ]
    }
   ],
   "source": [
    "%%timeit\n",
    "\n",
    "e_x_series = []\n",
    "\n",
    "for n in range(0, num_iters):\n",
    "    e_x_series.append(np.power(x, n)/math.factorial(n))\n",
    "\n",
    "e_x = np.sum(e_x_series)\n"
   ]
  },
  {
   "cell_type": "code",
   "execution_count": 5,
   "metadata": {},
   "outputs": [],
   "source": [
    "e_x_series = []\n",
    "\n",
    "for n in range(0, num_iters):\n",
    "    e_x_series.append(np.power(x, n)/math.factorial(n))\n",
    "\n",
    "e_x = np.sum(e_x_series)"
   ]
  },
  {
   "cell_type": "code",
   "execution_count": 6,
   "metadata": {},
   "outputs": [
    {
     "name": "stdout",
     "output_type": "stream",
     "text": [
      "17\n",
      "87004.92481660504\n",
      "24154952.7535753\n"
     ]
    }
   ],
   "source": [
    "print(x)\n",
    "print(e_x)\n",
    "print(np.exp(x))"
   ]
  },
  {
   "cell_type": "markdown",
   "metadata": {},
   "source": [
    "(a small diversion)\n",
    "... and as a list comprehension:"
   ]
  },
  {
   "cell_type": "code",
   "execution_count": 122,
   "metadata": {},
   "outputs": [
    {
     "name": "stdout",
     "output_type": "stream",
     "text": [
      "10.0 100 2.20e+04 22026.466 0.00e+00\n"
     ]
    }
   ],
   "source": [
    "# x = 10.0\n",
    "num_iters = 100\n",
    "e_x_series = [np.power(x, n)/math.factorial(n) for n in range(num_iters)]\n",
    "e_x = np.sum(e_x_series)\n",
    "std_e_x = np.exp(x)\n",
    "error = std_e_x - e_x\n",
    "print(\"{} {} {:5.2e} {:1.3f} {:5.2e}\".format(x, num_iters, e_x, std_e_x, error))"
   ]
  },
  {
   "cell_type": "code",
   "execution_count": 8,
   "metadata": {},
   "outputs": [
    {
     "name": "stdout",
     "output_type": "stream",
     "text": [
      "1.48 ms ± 39.4 µs per loop (mean ± std. dev. of 7 runs, 1000 loops each)\n"
     ]
    }
   ],
   "source": [
    "%%timeit\n",
    "\n",
    "e_x_series = []\n",
    "\n",
    "x_power = [np.power(x, n) for n in range(0,num_iters)]\n",
    "x_factorials = scipy.special.factorial(range(0,num_iters))\n",
    "\n",
    "# print(x_factorials[:10])\n",
    "# print(len(x_power))\n",
    "# print(len(x_factorials))\n",
    "\n",
    "e_x_series = x_power / x_factorials\n",
    "\n",
    "#for n in range(0, num_iters):\n",
    "#    e_x.append(x_power[n]/math.factorial(n))\n",
    "e_x = np.sum(e_x_series)\n"
   ]
  },
  {
   "cell_type": "code",
   "execution_count": 10,
   "metadata": {},
   "outputs": [],
   "source": [
    "e_x_series = []\n",
    "\n",
    "x_power = [np.power(x, n) for n in range(0,num_iters)]\n",
    "x_factorials = scipy.special.factorial(range(0,num_iters))\n",
    "\n",
    "e_x_series = x_power / x_factorials\n",
    "\n",
    "e_x = np.sum(e_x_series)"
   ]
  },
  {
   "cell_type": "code",
   "execution_count": 11,
   "metadata": {},
   "outputs": [
    {
     "name": "stdout",
     "output_type": "stream",
     "text": [
      "87004.92481660504\n",
      "24154952.7535753\n"
     ]
    }
   ],
   "source": [
    "print(e_x)\n",
    "print(np.exp(x))"
   ]
  },
  {
   "cell_type": "code",
   "execution_count": null,
   "metadata": {},
   "outputs": [],
   "source": [
    "## let's do the timing analysis of each part \n",
    "## first taking the powers of x in a loop v. using comprehension"
   ]
  },
  {
   "cell_type": "code",
   "execution_count": 12,
   "metadata": {},
   "outputs": [
    {
     "name": "stdout",
     "output_type": "stream",
     "text": [
      "1.22 ms ± 35.1 µs per loop (mean ± std. dev. of 7 runs, 1000 loops each)\n"
     ]
    }
   ],
   "source": [
    "%%timeit\n",
    "\n",
    "for n in range(0, num_iters):\n",
    "    np.power(x, n)"
   ]
  },
  {
   "cell_type": "code",
   "execution_count": 13,
   "metadata": {},
   "outputs": [
    {
     "name": "stdout",
     "output_type": "stream",
     "text": [
      "1.22 ms ± 11.4 µs per loop (mean ± std. dev. of 7 runs, 1000 loops each)\n"
     ]
    }
   ],
   "source": [
    "%%timeit\n",
    "x_power = [np.power(x, n) for n in range(0,num_iters)]"
   ]
  },
  {
   "cell_type": "code",
   "execution_count": 14,
   "metadata": {},
   "outputs": [
    {
     "name": "stdout",
     "output_type": "stream",
     "text": [
      "123 µs ± 2.02 µs per loop (mean ± std. dev. of 7 runs, 10000 loops each)\n"
     ]
    }
   ],
   "source": [
    "%%timeit\n",
    "x_power = np.power(x, range(0, num_iters))"
   ]
  },
  {
   "cell_type": "code",
   "execution_count": 15,
   "metadata": {},
   "outputs": [
    {
     "name": "stdout",
     "output_type": "stream",
     "text": [
      "17\n",
      "[0, 1, 2, 3, 4, 5, 6, 7, 8, 9]\n",
      "[1, 17, 289, 4913, 83521, 1419857, 24137569, 410338673, -1614177151, -1671207791]\n",
      "1000\n"
     ]
    }
   ],
   "source": [
    "print(x)\n",
    "print(list(range(0, num_iters))[:10])\n",
    "\n",
    "#x_power = np.power(x, range(0, num_iters))\n",
    "\n",
    "print(x_power[:10])\n",
    "print(len(x_power))"
   ]
  },
  {
   "cell_type": "code",
   "execution_count": null,
   "metadata": {},
   "outputs": [],
   "source": [
    "## next the factorials"
   ]
  },
  {
   "cell_type": "code",
   "execution_count": 16,
   "metadata": {},
   "outputs": [
    {
     "name": "stdout",
     "output_type": "stream",
     "text": [
      "17.5 ms ± 1.3 ms per loop (mean ± std. dev. of 7 runs, 10 loops each)\n"
     ]
    }
   ],
   "source": [
    "%%timeit\n",
    "for n in range(0, num_iters):\n",
    "    math.factorial(n)"
   ]
  },
  {
   "cell_type": "code",
   "execution_count": 17,
   "metadata": {},
   "outputs": [
    {
     "name": "stdout",
     "output_type": "stream",
     "text": [
      "111 µs ± 422 ns per loop (mean ± std. dev. of 7 runs, 10000 loops each)\n"
     ]
    }
   ],
   "source": [
    "%%timeit\n",
    "scipy.special.factorial(range(0,num_iters))"
   ]
  },
  {
   "cell_type": "code",
   "execution_count": null,
   "metadata": {},
   "outputs": [],
   "source": []
  },
  {
   "cell_type": "code",
   "execution_count": 18,
   "metadata": {},
   "outputs": [
    {
     "name": "stdout",
     "output_type": "stream",
     "text": [
      "Enter x: 17\n"
     ]
    }
   ],
   "source": [
    "# new version: use the vectorized power\n",
    "x = int(input(\"Enter x: \"))"
   ]
  },
  {
   "cell_type": "code",
   "execution_count": 19,
   "metadata": {},
   "outputs": [],
   "source": [
    "#%%timeit\n",
    "\n",
    "num_iters = 100000\n",
    "e_x_series = []\n",
    "\n",
    "x_power = np.power(x, range(0, num_iters))\n",
    "x_factorials = scipy.special.factorial(range(0,num_iters))\n",
    "\n",
    "# print(x_factorials[:10])\n",
    "# print(len(x_power))\n",
    "# print(len(x_factorials))\n",
    "\n",
    "e_x_series = x_power / x_factorials\n",
    "\n",
    "#for n in range(0, num_iters):\n",
    "#    e_x.append(x_power[n]/math.factorial(n))\n",
    "e_x = np.sum(e_x_series)\n"
   ]
  },
  {
   "cell_type": "code",
   "execution_count": 20,
   "metadata": {},
   "outputs": [
    {
     "name": "stdout",
     "output_type": "stream",
     "text": [
      "17\n",
      "87004.92481660504\n",
      "24154952.7535753\n",
      "[  1.   17.  144.5 ...   0.   -0.   -0. ]\n"
     ]
    }
   ],
   "source": [
    "print(x)\n",
    "print(e_x)\n",
    "print(np.exp(x))\n",
    "print(e_x_series[:-10])"
   ]
  },
  {
   "cell_type": "code",
   "execution_count": 24,
   "metadata": {},
   "outputs": [
    {
     "name": "stdout",
     "output_type": "stream",
     "text": [
      "1.0 1.0 0.0 0.0\n",
      "2.718281828459045 2.718281828459045 0.0 0.0\n",
      "7.38905609893065 7.38905609893065 0.0 0.0\n",
      "20.085536923187668 20.085536923187668 0.0 0.0\n",
      "54.598150033144236 54.598150033144236 0.0 0.0\n",
      "148.41315910257663 148.4131591025766 -2.842170943040401e-14 -1.9150397176546976e-14\n",
      "403.4287934927351 403.4287934927351 0.0 0.0\n",
      "1096.6331584284587 1096.6331584284585 -2.2737367544323206e-13 -2.0733795407852907e-14\n",
      "2980.9579870417283 2980.9579870417283 0.0 0.0\n",
      "8103.083927575384 8103.083927575384 0.0 0.0\n"
     ]
    }
   ],
   "source": [
    "def e_to_the_x(x, num_iter):\n",
    "    e_x_series = []\n",
    "    \n",
    "    #print(\"calculating e^\", x, \"using\", num_iter, \"iterations!\")\n",
    "\n",
    "    x = float(x)\n",
    "    x_power = np.power(x, range(0, num_iters))\n",
    "    x_factorials = scipy.special.factorial(range(0,num_iters))\n",
    "\n",
    "    #print(x_power[:5])\n",
    "    #print(x_factorials[:5])\n",
    "    \n",
    "    e_x_series = x_power / x_factorials\n",
    "\n",
    "    #print(e_x_series[:5])\n",
    "    #print(e_x_series[-5:])\n",
    "    \n",
    "    e_x = np.sum(e_x_series)\n",
    "    \n",
    "    #print(e_x, type(e_x))\n",
    "    #print()\n",
    "    \n",
    "    return e_x\n",
    "\n",
    "num_i = 100\n",
    "for x in range(0, 10):\n",
    "    e_1 = e_to_the_x(x, num_i)\n",
    "    e_2 = np.exp(x)\n",
    "    print(e_1, e_2, e_2 - e_1, 100 * (e_2 - e_1)/e_1)\n",
    "    \n",
    "    "
   ]
  },
  {
   "cell_type": "code",
   "execution_count": 79,
   "metadata": {},
   "outputs": [
    {
     "name": "stdout",
     "output_type": "stream",
     "text": [
      "[1.e+00 1.e+01 1.e+02 1.e+03 1.e+04 1.e+05 1.e+06 1.e+07 1.e+08 1.e+09\n",
      " 1.e+10 1.e+11 1.e+12 1.e+13 1.e+14 1.e+15 1.e+16 1.e+17 1.e+18 1.e+19]\n",
      "[1.00000000e+00 1.00000000e+00 2.00000000e+00 6.00000000e+00\n",
      " 2.40000000e+01 1.20000000e+02 7.20000000e+02 5.04000000e+03\n",
      " 4.03200000e+04 3.62880000e+05 3.62880000e+06 3.99168000e+07\n",
      " 4.79001600e+08 6.22702080e+09 8.71782912e+10 1.30767437e+12\n",
      " 2.09227899e+13 3.55687428e+14 6.40237371e+15 1.21645100e+17]\n",
      "[1.00000000e+00 1.00000000e+01 5.00000000e+01 1.66666667e+02\n",
      " 4.16666667e+02 8.33333333e+02 1.38888889e+03 1.98412698e+03\n",
      " 2.48015873e+03 2.75573192e+03 2.75573192e+03 2.50521084e+03\n",
      " 2.08767570e+03 1.60590438e+03 1.14707456e+03 7.64716373e+02\n",
      " 4.77947733e+02 2.81145725e+02 1.56192070e+02 8.22063525e+01]\n",
      "[9.68056227e-54 1.00839190e-54 1.03957928e-55 1.06079519e-56\n",
      " 1.07151029e-57]\n",
      "22026.465794806718\n",
      "22026.465794806718\n"
     ]
    }
   ],
   "source": [
    "x = 10.\n",
    "num_iters = 100\n",
    "\n",
    "e_x_series = []\n",
    "\n",
    "x_power = np.power(x, range(0, num_iters))\n",
    "x_factorials = scipy.special.factorial(range(0,num_iters))\n",
    "\n",
    "print(x_power[:20])\n",
    "print(x_factorials[:20])\n",
    "\n",
    "e_x_series = x_power / x_factorials\n",
    "\n",
    "print(e_x_series[:20])\n",
    "print(e_x_series[-5:])\n",
    "\n",
    "\n",
    "e_x = np.sum(e_x_series)\n",
    "\n",
    "\n",
    "#print(e_x_series)\n",
    "print(e_x)\n",
    "print(np.exp(x))\n",
    "\n"
   ]
  },
  {
   "cell_type": "code",
   "execution_count": 31,
   "metadata": {},
   "outputs": [
    {
     "data": {
      "image/png": "[encoded data removed]",
      "text/plain": [
       "<matplotlib.figure.Figure at 0x27242968320>"
      ]
     },
     "metadata": {},
     "output_type": "display_data"
    }
   ],
   "source": [
    "fig, ax = plt.subplots(2, 2)\n",
    "ax[0][0].set_xlim(0, 20)\n",
    "ax[0][0].plot(x_power)\n",
    "ax[0][0].set_yscale(\"log\")\n",
    "ax[0][1].set_xlim(0, 20)\n",
    "ax[0][1].plot(x_factorials)\n",
    "ax[0][1].set_yscale(\"log\")\n",
    "\n",
    "ax[1][0].plot(e_x_series)\n",
    "plt.show()\n"
   ]
  },
  {
   "cell_type": "markdown",
   "metadata": {},
   "source": [
    "Using generators"
   ]
  },
  {
   "cell_type": "code",
   "execution_count": 88,
   "metadata": {},
   "outputs": [
    {
     "name": "stdout",
     "output_type": "stream",
     "text": [
      "1.06865e+13 1.06865e+13 -0.00195312\n"
     ]
    }
   ],
   "source": [
    "from itertools import repeat\n",
    "num_iters = 100\n",
    "\n",
    "## Generator function that returns x^y where\n",
    "## y increases at each call\n",
    "def powers(x):\n",
    "    pow = x\n",
    "    for i in repeat(None):\n",
    "        yield pow\n",
    "        pow = pow * x\n",
    "    \n",
    "def factorial():\n",
    "    prod = 1.0\n",
    "    fact = 1.0\n",
    "    for i in repeat(None):\n",
    "        prod = prod * fact\n",
    "        yield prod\n",
    "        fact = fact + 1.0\n",
    "        \n",
    "        \n",
    "    \n",
    "num = 30.\n",
    "\n",
    "e_x = 1.0\n",
    "p = powers(num)\n",
    "f = factorial()\n",
    "for i in range(1,num_iters):\n",
    "    n1 = next(p)\n",
    "    n2 = next(f)\n",
    "    e_x += n1/n2\n",
    "    #if i % 100 == 0:\n",
    "    #print(\"{} {:15.2f} {:15.2f} {:5.2f} {:5.2f}\".format(i, n1, n2, n1/n2, e_x))\n",
    "    #print(i, next(p), next(f))\n",
    "print(\"{:2.5e} {:2.5e} {:3.8f}\".format(e_x, np.exp(num), np.exp(num)-e_x))\n",
    "\n"
   ]
  },
  {
   "cell_type": "markdown",
   "metadata": {},
   "source": [
    "Measure error as the number of iterations increase"
   ]
  },
  {
   "cell_type": "code",
   "execution_count": 108,
   "metadata": {},
   "outputs": [
    {
     "name": "stdout",
     "output_type": "stream",
     "text": [
      "1.06865e+13 1.06865e+13 -0.00195312\n",
      "[-0.001953125, -0.001953125, -0.001953125, -0.001953125, -0.001953125, -0.001953125, -0.001953125, -0.001953125, -0.001953125, -0.001953125, -0.001953125, -0.001953125, -0.001953125, -0.001953125, -0.001953125, -0.001953125, -0.001953125, -0.001953125, -0.001953125, -0.001953125]\n"
     ]
    },
    {
     "data": {
      "image/png": "[encoded data removed]",
      "text/plain": [
       "<matplotlib.figure.Figure at 0x2724299a438>"
      ]
     },
     "metadata": {},
     "output_type": "display_data"
    }
   ],
   "source": [
    "num = 30.\n",
    "num_iters = 209\n",
    "\n",
    "e_x = 1.0\n",
    "p = powers(num)\n",
    "f = factorial()\n",
    "error = []\n",
    "e_x_actual = np.exp(num)\n",
    "for i in range(1,num_iters):\n",
    "    n1 = next(p)\n",
    "    n2 = next(f)\n",
    "    e_x += n1/n2\n",
    "    error.append(e_x_actual - e_x)\n",
    "    #if i < 10:\n",
    "    #    print(\"{} {:15.2f} {:15.2f} {:5.2f} {:5.2f} {:5.2f}\".format(i, n1, n2, n1/n2, e_x, error[-1]))\n",
    "    #print(i, next(p), next(f))\n",
    "print(\"{:2.5e} {:2.5e} {:3.8f}\".format(e_x, e_x_actual, e_x_actual - e_x))\n",
    "print(error[-20:])\n",
    "fig, ax = plt.subplots(1, 1)\n",
    "## to do: add a subplot that zooms into the trailing iterations\n",
    "ax.plot(error)\n",
    "#ax.set_ylim(-.2, .2)\n",
    "plt.show()"
   ]
  },
  {
   "cell_type": "markdown",
   "metadata": {},
   "source": [
    "Adjust the number of iterations till error drops below threshold"
   ]
  },
  {
   "cell_type": "markdown",
   "metadata": {},
   "source": [
    "Exercises:\n",
    "Go crazy with other Taylor series expansions!"
   ]
  }
 ],
 "metadata": {
  "kernelspec": {
   "display_name": "Python 3",
   "language": "python",
   "name": "python3"
  },
  "language_info": {
   "codemirror_mode": {
    "name": "ipython",
    "version": 3
   },
   "file_extension": ".py",
   "mimetype": "text/x-python",
   "name": "python",
   "nbconvert_exporter": "python",
   "pygments_lexer": "ipython3",
   "version": "3.6.4"
  },
  "latex_envs": {
   "LaTeX_envs_menu_present": true,
   "autoclose": false,
   "autocomplete": true,
   "bibliofile": "biblio.bib",
   "cite_by": "apalike",
   "current_citInitial": 1,
   "eqLabelWithNumbers": true,
   "eqNumInitial": 1,
   "hotkeys": {
    "equation": "Ctrl-E",
    "itemize": "Ctrl-I"
   },
   "labels_anchors": false,
   "latex_user_defs": false,
   "report_style_numbering": false,
   "user_envs_cfg": false
  }
 },
 "nbformat": 4,
 "nbformat_minor": 2
}
